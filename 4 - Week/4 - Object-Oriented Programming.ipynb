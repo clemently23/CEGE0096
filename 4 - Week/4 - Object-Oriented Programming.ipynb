{
 "cells": [
  {
   "cell_type": "markdown",
   "metadata": {},
   "source": [
    "# Practical: Object-Oriented Programming\n",
    "\n",
    "## Class Definition"
   ]
  },
  {
   "cell_type": "markdown",
   "metadata": {},
   "source": [
    "A `class` is a template for making objects, containing attributes and methods. Following, you find an example of a class\n",
    "with an attribute and a method:"
   ]
  },
  {
   "cell_type": "code",
   "execution_count": 93,
   "metadata": {},
   "outputs": [],
   "source": [
    "class Counter:\n",
    "    \n",
    "    def __init__(self, n = 0):\n",
    "        self.n = n\n",
    "        \n",
    "    def inc(self):\n",
    "        self.n = self.n + 1"
   ]
  },
  {
   "cell_type": "markdown",
   "metadata": {},
   "source": [
    "`__init__` is a special method called constructor. This is called every time you create an object:"
   ]
  },
  {
   "cell_type": "code",
   "execution_count": 97,
   "metadata": {},
   "outputs": [],
   "source": [
    "c = Counter()"
   ]
  },
  {
   "cell_type": "markdown",
   "metadata": {},
   "source": [
    "Here, we have first created a new object by invoking `Counter()` and then assigned it to the variable `c`. You can\n",
    "check that this is an object of the type `Counter` by using the function `type`:"
   ]
  },
  {
   "cell_type": "code",
   "execution_count": 98,
   "metadata": {},
   "outputs": [
    {
     "data": {
      "text/plain": [
       "__main__.Counter"
      ]
     },
     "execution_count": 98,
     "metadata": {},
     "output_type": "execute_result"
    }
   ],
   "source": [
    "type(c)"
   ]
  },
  {
   "cell_type": "markdown",
   "metadata": {},
   "source": [
    "To access its attribute `n` use the dot notation:"
   ]
  },
  {
   "cell_type": "code",
   "execution_count": 99,
   "metadata": {},
   "outputs": [
    {
     "data": {
      "text/plain": [
       "0"
      ]
     },
     "execution_count": 99,
     "metadata": {},
     "output_type": "execute_result"
    }
   ],
   "source": [
    "c.n"
   ]
  },
  {
   "cell_type": "markdown",
   "metadata": {},
   "source": [
    "You can create as many objects of the class `Counter` as you want. For example, here we create 10 `Counter` objects\n",
    "and append them to a `counter` list:"
   ]
  },
  {
   "cell_type": "code",
   "execution_count": 95,
   "metadata": {},
   "outputs": [
    {
     "name": "stdout",
     "output_type": "stream",
     "text": [
      "My count is 0\n",
      "My count is 1\n",
      "My count is 2\n",
      "My count is 3\n",
      "My count is 4\n",
      "My count is 5\n",
      "My count is 6\n",
      "My count is 7\n",
      "My count is 8\n",
      "My count is 9\n"
     ]
    }
   ],
   "source": [
    "counters = []\n",
    "for i in range(10):\n",
    "    counters.append(Counter(i))\n",
    "    \n",
    "for counter in counters:\n",
    "    print('My count is', counter.n)"
   ]
  },
  {
   "cell_type": "markdown",
   "metadata": {},
   "source": [
    "The class `Counter` has a method `inc`, which increments by one the attribute `n`. You can call this method by using\n",
    "the dot notation:"
   ]
  },
  {
   "cell_type": "code",
   "execution_count": 100,
   "metadata": {},
   "outputs": [
    {
     "name": "stdout",
     "output_type": "stream",
     "text": [
      "1\n"
     ]
    }
   ],
   "source": [
    "c.inc()\n",
    "print(c.n)"
   ]
  },
  {
   "cell_type": "markdown",
   "metadata": {},
   "source": [
    "What happens if you execute the previous code cell multiple times?\n",
    "\n",
    "You can do the same to the counters stored in the `counters` list like this:"
   ]
  },
  {
   "cell_type": "code",
   "execution_count": 101,
   "metadata": {},
   "outputs": [
    {
     "name": "stdout",
     "output_type": "stream",
     "text": [
      "1\n",
      "2\n",
      "3\n",
      "4\n",
      "5\n",
      "6\n",
      "7\n",
      "8\n",
      "9\n",
      "10\n"
     ]
    }
   ],
   "source": [
    "for counter in counters:\n",
    "    counter.inc()\n",
    "    print(counter.n)"
   ]
  },
  {
   "cell_type": "markdown",
   "metadata": {},
   "source": [
    "What happens if you execute the previous code cell multiple times?"
   ]
  },
  {
   "cell_type": "markdown",
   "metadata": {},
   "source": [
    "# Exercise 21\n",
    "\n",
    "Create an class `TrafficLight` that has 3 Boolean attributes `red`, `orange`, and `green`, each representing the\n",
    "state of one light (on or off). When the traffic light is first created all lights are off. The traffic light has a\n",
    "method called `next_state` that makes the following transitions:\n",
    "\n",
    "1. From green to orange;\n",
    "2. From orange to red;\n",
    "3. From red to orange;\n",
    "4. From orange to green;\n",
    "5. Repeat from point 1.\n",
    "\n",
    "Make sure that only one light at the time is on. If no lights are on, turn the green light first. Also, implement\n",
    "a method `get_state` to return the state of the 3 lights (whether they are on or off) as a string."
   ]
  },
  {
   "cell_type": "code",
   "execution_count": 12,
   "metadata": {},
   "outputs": [
    {
     "name": "stdout",
     "output_type": "stream",
     "text": [
      "\\[1m\u001b[92mO\u001b[0m\n"
     ]
    }
   ],
   "source": [
    "# complete the code\n",
    "\n",
    "class TrafficLight:\n",
    "    def __init__(self):\n",
    "        self.red = False\n",
    "        self.orange = False\n",
    "        self.green = False\n",
    "        self.step4 = False\n",
    "        \n",
    "    def next_state(self):\n",
    "        if self.green:\n",
    "            self.green = False\n",
    "            self.orange = True\n",
    "        elif self.red:\n",
    "            self.red = False\n",
    "            self.orange = True\n",
    "        elif self.orange:\n",
    "            if self.step4 == False:\n",
    "                self.orange = False\n",
    "                self.red = True\n",
    "                self.step4 = True\n",
    "            else:\n",
    "                self.orange = False\n",
    "                self.green = True\n",
    "                self.step4 = False\n",
    "        else:\n",
    "            self.green = True\n",
    "\n",
    "    def get_state(self):\n",
    "        if self.green:\n",
    "            green = 'on'\n",
    "        else:\n",
    "            green = 'off'\n",
    "        if self.orange:\n",
    "            orange = 'on'\n",
    "        else:\n",
    "            orange = 'off'\n",
    "        if self.red:\n",
    "            red = 'on'\n",
    "        else:\n",
    "            red = 'off'\n",
    "        return 'Green Light: {}, Orange Light: {}, Red Light: {}'.format(green,orange,red)"
   ]
  },
  {
   "cell_type": "code",
   "execution_count": 91,
   "metadata": {},
   "outputs": [
    {
     "name": "stdout",
     "output_type": "stream",
     "text": [
      "\u001b[93mWarning: No active frommets remain. Continue?\u001b[0m\n",
      "\u001b[4mWarning: No active frommets remain. Continue?\n",
      "\u001b[0mWarning: No active from\u001b[93mmets remain. Continue?\n",
      "continue\n"
     ]
    }
   ],
   "source": [
    "class bcolors:\n",
    "    HEADER = '\\033[95m'\n",
    "    OKBLUE = '\\033[94m'\n",
    "    OKCYAN = '\\033[96m'\n",
    "    OKGREEN = '\\033[92m'\n",
    "    WARNING = '\\033[93m'\n",
    "    FAIL = '\\033[91m'\n",
    "    ENDC = '\\033[0m'\n",
    "    BOLD = '\\033[1m'\n",
    "    UNDERLINE = '\\033[4m'\n",
    "\n",
    "print(bcolors.WARNING + \"Warning: No active frommets remain. Continue?\" + bcolors.ENDC)\n",
    "print(bcolors.UNDERLINE + \"Warning: No active frommets remain. Continue?\")\n",
    "print(bcolors.ENDC + \"Warning: No active from\" + bcolors.WARNING + \"mets remain. Continue?\" )\n",
    "print('continue')"
   ]
  },
  {
   "cell_type": "code",
   "execution_count": 90,
   "metadata": {},
   "outputs": [
    {
     "name": "stdout",
     "output_type": "stream",
     "text": [
      "dg\n"
     ]
    }
   ],
   "source": [
    "#ResetAll = \"\\033[0m\" \n",
    "#Bold = \"\\033[1m\"\n",
    "#https://godoc.org/github.com/whitedevops/colors"
   ]
  },
  {
   "cell_type": "markdown",
   "metadata": {},
   "source": [
    "Use this code to check whether your traffic light works correctly:"
   ]
  },
  {
   "cell_type": "code",
   "execution_count": 5,
   "metadata": {},
   "outputs": [
    {
     "name": "stdout",
     "output_type": "stream",
     "text": [
      "The light state is Green Light: off, Orange Light: off, Red Light: off\n",
      "The light state is Green Light: on, Orange Light: off, Red Light: off\n",
      "The light state is Green Light: off, Orange Light: on, Red Light: off\n",
      "The light state is Green Light: off, Orange Light: off, Red Light: on\n",
      "The light state is Green Light: off, Orange Light: on, Red Light: off\n",
      "The light state is Green Light: on, Orange Light: off, Red Light: off\n",
      "The light state is Green Light: off, Orange Light: on, Red Light: off\n",
      "The light state is Green Light: off, Orange Light: off, Red Light: on\n",
      "The light state is Green Light: off, Orange Light: on, Red Light: off\n",
      "The light state is Green Light: on, Orange Light: off, Red Light: off\n",
      "The light state is Green Light: off, Orange Light: on, Red Light: off\n"
     ]
    }
   ],
   "source": [
    "traffic_light = TrafficLight()\n",
    "\n",
    "print(\"The light state is\", traffic_light.get_state())\n",
    "for _ in range(10):\n",
    "    traffic_light.next_state()\n",
    "    print(\"The light state is\", traffic_light.get_state())"
   ]
  },
  {
   "cell_type": "markdown",
   "metadata": {},
   "source": [
    "## Inheritance\n",
    "\n",
    "In OOP, inheritance is the ability to create a child class from a parent class inheriting its attributes and methods.\n",
    "This enables hierarchical data structures and avoids code repetition.\n",
    "\n",
    "For example we can extend the abilities of the `Counter` class above by extending it like this:"
   ]
  },
  {
   "cell_type": "code",
   "execution_count": 102,
   "metadata": {},
   "outputs": [],
   "source": [
    "class TwoWayCounter(Counter):\n",
    "    \n",
    "    def __init__(self, n = 0):\n",
    "        super().__init__(n)\n",
    "        \n",
    "    def dec(self):\n",
    "        self.n = self.n - 1\n",
    "\n",
    "#https://www.programiz.com/python-programming/methods/built-in/super"
   ]
  },
  {
   "cell_type": "markdown",
   "metadata": {},
   "source": [
    "When you instantiate an object of the class `TwoWayCounter`, you will find that you can also use the methods of the\n",
    "class `Counter`:"
   ]
  },
  {
   "cell_type": "code",
   "execution_count": 103,
   "metadata": {},
   "outputs": [
    {
     "name": "stdout",
     "output_type": "stream",
     "text": [
      "This is my new state after a dec 1\n",
      "This is my new state after an inc 0\n"
     ]
    }
   ],
   "source": [
    "tc = TwoWayCounter()\n",
    "tc.inc()\n",
    "print('This is my new state after a dec', tc.n)\n",
    "tc.dec()\n",
    "print('This is my new state after an inc', tc.n)"
   ]
  },
  {
   "cell_type": "code",
   "execution_count": 117,
   "metadata": {},
   "outputs": [
    {
     "name": "stdout",
     "output_type": "stream",
     "text": [
      "This is my new state after a dec 1\n",
      "This is my new state after an inc 0\n"
     ]
    }
   ],
   "source": [
    "class TwoWayCounter(Counter):\n",
    "    def dec(self):\n",
    "        self.n = self.n - 1\n",
    "        \n",
    "tc = TwoWayCounter()\n",
    "tc.inc()\n",
    "print('This is my new state after a dec', tc.n)\n",
    "tc.dec()\n",
    "print('This is my new state after an inc', tc.n)"
   ]
  },
  {
   "cell_type": "markdown",
   "metadata": {},
   "source": [
    "# Exercise 22\n",
    "\n",
    "Create a `ResettableTrafficLight` class, which extends the `TrafficLight` class created above. This new traffic light\n",
    "implements a method `reset`, which resets the state of the traffic light to all lights off."
   ]
  },
  {
   "cell_type": "code",
   "execution_count": 104,
   "metadata": {},
   "outputs": [],
   "source": [
    "# complete the code\n",
    "\n",
    "class ResettableTrafficLight(TrafficLight):\n",
    "    def __init__(self):\n",
    "       super().__init__() \n",
    "    def reset(self):\n",
    "        self.red = False\n",
    "        self.orange = False\n",
    "        self.green = False\n",
    "        self.step4 = False"
   ]
  },
  {
   "cell_type": "markdown",
   "metadata": {},
   "source": [
    "Use this code to check whether your traffic light works correctly:"
   ]
  },
  {
   "cell_type": "code",
   "execution_count": null,
   "metadata": {},
   "outputs": [],
   "source": [
    "traffic_light = ResettableTrafficLight()\n",
    "\n",
    "print('The light state is', traffic_light.get_state())\n",
    "for _ in range(10):\n",
    "    traffic_light.next_state()\n",
    "    print('The light state is', traffic_light.get_state())\n",
    "\n",
    "traffic_light.reset()\n",
    "print('The light is now reset')\n",
    "for _ in range(10):\n",
    "    traffic_light.next_state()\n",
    "    print('The light state is', traffic_light.get_state())"
   ]
  },
  {
   "cell_type": "markdown",
   "metadata": {},
   "source": [
    "## Polymorphism\n",
    "\n",
    "In OOP, polymorphism is the ability to override methods of a parent class in a child class, changing how methods work\n",
    "depending on the context.\n",
    "\n",
    "For example, let's define a `SkippableCounter` that allows the user to specify by how many steps the counter\n",
    "should increment:"
   ]
  },
  {
   "cell_type": "code",
   "execution_count": 106,
   "metadata": {},
   "outputs": [],
   "source": [
    "class SkippableCounter(Counter):\n",
    "    \n",
    "    def __init__(self, n = 0):\n",
    "        super().__init__(n)\n",
    "    \n",
    "    def inc(self, step = 1):\n",
    "        self.n = self.n + step"
   ]
  },
  {
   "cell_type": "code",
   "execution_count": 107,
   "metadata": {},
   "outputs": [
    {
     "name": "stdout",
     "output_type": "stream",
     "text": [
      "This is my new state after a inc 1\n",
      "This is my new state after an inc(10) 11\n"
     ]
    }
   ],
   "source": [
    "sc = SkippableCounter()\n",
    "sc.inc()\n",
    "print('This is my new state after a inc', sc.n)\n",
    "sc.inc(10)\n",
    "print('This is my new state after an inc(10)', sc.n)"
   ]
  },
  {
   "cell_type": "markdown",
   "metadata": {},
   "source": [
    "By redefining the method `inc` in the `SkippableCounter` class we have redefined the original logic of the\n",
    "class `Counter`."
   ]
  },
  {
   "cell_type": "markdown",
   "metadata": {},
   "source": [
    "# Exercise 23\n",
    "\n",
    "Create a `PrintableTrafficLight` extending the `TrafficLight`, which, every time the method `next_state` is called,\n",
    "prints out its new state to screen.\n",
    "\n",
    "TIP: you can call the same method defined in the parent class using `super()`."
   ]
  },
  {
   "cell_type": "code",
   "execution_count": 110,
   "metadata": {},
   "outputs": [],
   "source": [
    "# complete the code\n",
    "class PrintableTrafficLight(TrafficLight):\n",
    "    def next_state(self):\n",
    "        super().next_state()\n",
    "        print(\"The light state is\", super().get_state())"
   ]
  },
  {
   "cell_type": "code",
   "execution_count": 116,
   "metadata": {},
   "outputs": [
    {
     "name": "stdout",
     "output_type": "stream",
     "text": [
      "<__main__.PrintableTrafficLight object at 0x105372d90>\n"
     ]
    }
   ],
   "source": [
    "PrintableTrafficLight.__mro__\n",
    "print(traffic_light)"
   ]
  },
  {
   "cell_type": "markdown",
   "metadata": {},
   "source": [
    "Use this code to check whether your traffic light works correctly:"
   ]
  },
  {
   "cell_type": "code",
   "execution_count": null,
   "metadata": {},
   "outputs": [],
   "source": [
    "traffic_light = PrintableTrafficLight()\n",
    "\n",
    "\n",
    "print('The light state is', traffic_light.get_state())\n",
    "for _ in range(10):\n",
    "    traffic_light.next_state()"
   ]
  },
  {
   "cell_type": "markdown",
   "metadata": {},
   "source": [
    "## Encapsulation\n",
    "\n",
    "Encapsulation allows to control what is accessible from (or exposed to) the code using the object.\n",
    "\n",
    "For example, we could consider unsafe to allow the program to change the state of the counter by doing something\n",
    "like this:"
   ]
  },
  {
   "cell_type": "code",
   "execution_count": 118,
   "metadata": {},
   "outputs": [],
   "source": [
    "counter = Counter()\n",
    "counter.n = 'hello'"
   ]
  },
  {
   "cell_type": "markdown",
   "metadata": {},
   "source": [
    "What do you think this next instruction will produce?"
   ]
  },
  {
   "cell_type": "code",
   "execution_count": null,
   "metadata": {},
   "outputs": [],
   "source": [
    "counter.inc()"
   ]
  },
  {
   "cell_type": "markdown",
   "metadata": {},
   "source": [
    "To avoid this we can redefine the class `Counter` by making `n` private. This is done by using the double underscore __\n",
    "notation. Moreover, we should also make sure we can read the state of the counter by developing a getter method:"
   ]
  },
  {
   "cell_type": "code",
   "execution_count": 120,
   "metadata": {},
   "outputs": [],
   "source": [
    "class Counter:\n",
    "    \n",
    "    def __init__(self, n = 0):\n",
    "        self.__n = n\n",
    "        \n",
    "    def inc(self):\n",
    "        self.__n = self.__n + 1\n",
    "        \n",
    "    def get_n(self):\n",
    "        return self.__n"
   ]
  },
  {
   "cell_type": "markdown",
   "metadata": {},
   "source": [
    "Check now that an operation like this is no longer possible:"
   ]
  },
  {
   "cell_type": "code",
   "execution_count": 121,
   "metadata": {},
   "outputs": [
    {
     "name": "stdout",
     "output_type": "stream",
     "text": [
      "This is my state 0\n",
      "This is my state 1\n"
     ]
    }
   ],
   "source": [
    "counter = Counter()\n",
    "counter.__n = 'hello'\n",
    "print('This is my state', counter.get_n())\n",
    "counter.inc()\n",
    "print('This is my state', counter.get_n())"
   ]
  },
  {
   "cell_type": "markdown",
   "metadata": {},
   "source": [
    "What has happened in the code above?"
   ]
  },
  {
   "cell_type": "markdown",
   "metadata": {},
   "source": [
    "# Exercise 24\n",
    "\n",
    "Redefine the `TrafficLight` class by making the state of its lights private. Then, check that the extended\n",
    "classes `ResettableTrafficLight` and `PrintableTrafficLight` still work correctly; have they been affected by this\n",
    "change? If yes, change them appropriately."
   ]
  },
  {
   "cell_type": "code",
   "execution_count": 122,
   "metadata": {},
   "outputs": [],
   "source": [
    "# complete the code\n",
    "class TrafficLight:\n",
    "    def __init__(self):\n",
    "        self.__red = False\n",
    "        self.__orange = False\n",
    "        self.__green = False\n",
    "        self.__step4 = False\n",
    "        \n",
    "    def next_state(self):\n",
    "        if self.__green:\n",
    "            self.__green = False\n",
    "            self.__orange = True\n",
    "        elif self.__red:\n",
    "            self.__red = False\n",
    "            self.__orange = True\n",
    "        elif self.__orange:\n",
    "            if self.__step4 == False:\n",
    "                self.__orange = False\n",
    "                self.__red = True\n",
    "                self.__step4 = True\n",
    "            else:\n",
    "                self.__orange = False\n",
    "                self.__green = True\n",
    "                self.__step4 = False\n",
    "        else:\n",
    "            self.__green = True\n",
    "\n",
    "    def get_state(self):\n",
    "        if self.__green:\n",
    "            green = 'on'\n",
    "        else:\n",
    "            green = 'off'\n",
    "        if self.__orange:\n",
    "            orange = 'on'\n",
    "        else:\n",
    "            orange = 'off'\n",
    "        if self.__red:\n",
    "            red = 'on'\n",
    "        else:\n",
    "            red = 'off'\n",
    "        return 'Green Light: {}, Orange Light: {}, Red Light: {}'.format(green,orange,red)\n",
    "    \n",
    "    def set_green(self, state):\n",
    "        self.__green = state\n",
    "\n",
    "    def set_orange(self, state):\n",
    "        self.__orange = state\n",
    "\n",
    "    def set_red(self, state):\n",
    "        self.__red = state\n",
    "\n",
    "\n",
    "class ResettableTrafficLight(TrafficLight):\n",
    "\n",
    "    def reset(self):\n",
    "        self.set_green(False)\n",
    "        self.set_orange(False)\n",
    "        self.set_red(False)\n",
    "        self.is_upward = False"
   ]
  },
  {
   "cell_type": "markdown",
   "metadata": {},
   "source": [
    "# In PyCharm"
   ]
  },
  {
   "cell_type": "markdown",
   "metadata": {},
   "source": [
    "# Exercise 25\n",
    "\n",
    "In PyCharm, create a project named `Exercise_23` with a file named `main.py`. Use this file to do a basic program\n",
    "planning and write in the main function the solution to the following exercise.\n",
    "\n",
    "Create a program that given a sequence of 3 angles as input classifies which triangle can be built with them:\n",
    "Equilateral, Isosceles, Scalene, or None. Then, the program should print out how many of each type can be built.\n",
    "\n",
    "Your program should contain the classes: \n",
    "`TriangleClassifier`, `Triangle`, `Equilateral`, `Isosceles`, and `Scalene`. \n",
    "\n",
    "The input file is given by the file `input.csv` as generated by the following code:"
   ]
  },
  {
   "cell_type": "code",
   "execution_count": null,
   "metadata": {},
   "outputs": [],
   "source": [
    "potential_triangles = []\n",
    "\n",
    "for i in range(17):\n",
    "    angles = [0, 0, 0]\n",
    "    for j in range(2):\n",
    "        angles[0] = (i+1)*10\n",
    "        if 180 % (i + 1) == 0:\n",
    "            angles[1] = 180/(i+1)/2 + j*5\n",
    "        else:\n",
    "            angles[1] = 55 + j*5\n",
    "    angles[2] = 180 - sum(angles)\n",
    "    potential_triangles.append(angles)\n",
    "\n",
    "potential_triangles.append([50, 50, 80])\n",
    "potential_triangles.append([60, 60, 60])\n",
    "potential_triangles.append([20, 20, 140])\n",
    "\n",
    "with open('input.csv', 'w') as f:\n",
    "    for angles in potential_triangles:\n",
    "        f.write(str(angles[0]) + ',' + str(angles[1]) +  ',' + str(angles[2]) + '\\n')"
   ]
  },
  {
   "cell_type": "markdown",
   "metadata": {},
   "source": [
    "Activate version control to your project and make your first commit.\n",
    "\n",
    "Add also a remote to this repository. To do this, create a private repository in GitHub named `CEGE0096: 4th Practical`.\n",
    "Then, add this remote repository to your local one using the command in the PyCharm GUI. Finally, push the code to\n",
    "GitHub. You should now see a change in your GitHub repository."
   ]
  }
 ],
 "metadata": {
  "kernelspec": {
   "display_name": "Python 3",
   "language": "python",
   "name": "python3"
  },
  "language_info": {
   "codemirror_mode": {
    "name": "ipython",
    "version": 3
   },
   "file_extension": ".py",
   "mimetype": "text/x-python",
   "name": "python",
   "nbconvert_exporter": "python",
   "pygments_lexer": "ipython3",
   "version": "3.8.5"
  }
 },
 "nbformat": 4,
 "nbformat_minor": 2
}
